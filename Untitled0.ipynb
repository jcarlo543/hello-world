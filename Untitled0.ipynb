{
  "nbformat": 4,
  "nbformat_minor": 0,
  "metadata": {
    "colab": {
      "name": "Untitled0.ipynb",
      "provenance": [],
      "collapsed_sections": [],
      "toc_visible": true,
      "authorship_tag": "ABX9TyNORS4fQcZPlUBn3mZVkkkT",
      "include_colab_link": true
    },
    "kernelspec": {
      "name": "python3",
      "display_name": "Python 3"
    },
    "language_info": {
      "name": "python"
    }
  },
  "cells": [
    {
      "cell_type": "markdown",
      "metadata": {
        "id": "view-in-github",
        "colab_type": "text"
      },
      "source": [
        "<a href=\"https://colab.research.google.com/github/jcarlo543/hello-world/blob/master/Untitled0.ipynb\" target=\"_parent\"><img src=\"https://colab.research.google.com/assets/colab-badge.svg\" alt=\"Open In Colab\"/></a>"
      ]
    },
    {
      "cell_type": "markdown",
      "metadata": {
        "id": "x8wylEp7Twwm"
      },
      "source": [
        "#Nivel Uno\n",
        "##Nivel Dos\n",
        "###Nivel Tres"
      ]
    },
    {
      "cell_type": "code",
      "metadata": {
        "id": "TCZW-_yOT5MX"
      },
      "source": [
        ""
      ],
      "execution_count": null,
      "outputs": []
    },
    {
      "cell_type": "markdown",
      "metadata": {
        "id": "gYKoawJkT6_F"
      },
      "source": [
        "*Italica*<br>\n",
        "**Negrita**<br>\n",
        "~Tachado~<br>\n",
        ">Indentado<br>\n",
        ">>Doble indentado\n",
        "\n",
        ">Indentado de nuevo"
      ]
    },
    {
      "cell_type": "code",
      "metadata": {
        "id": "FfCyg58KUegV"
      },
      "source": [
        ""
      ],
      "execution_count": null,
      "outputs": []
    },
    {
      "cell_type": "markdown",
      "metadata": {
        "id": "Hq7L1CKpUyIS"
      },
      "source": [
        "[Enlace a Colaboratory](https://colab.research.google.com/)\n",
        "\n",
        "[texto del enlace](https:// [texto del enlace](https://))"
      ]
    },
    {
      "cell_type": "code",
      "metadata": {
        "id": "1xdLy1RLVDD4"
      },
      "source": [
        ""
      ],
      "execution_count": null,
      "outputs": []
    },
    {
      "cell_type": "markdown",
      "metadata": {
        "id": "0uZIXprxY1Fl"
      },
      "source": [
        "$x=a+b$\n",
        "\n",
        "$\\frac{a!}{b^2(n+k)} = x^2+3c$\n",
        "\n"
      ]
    },
    {
      "cell_type": "code",
      "metadata": {
        "id": "VfwVbYugaYPp"
      },
      "source": [
        ""
      ],
      "execution_count": null,
      "outputs": []
    },
    {
      "cell_type": "markdown",
      "metadata": {
        "id": "XqJ05GK9adUz"
      },
      "source": [
        "Estado | Compras\n",
        "--- | ---\n",
        "Puebla | 57\n",
        "Tabasco | 43\n",
        "Tlaxcala | 60\n"
      ]
    },
    {
      "cell_type": "code",
      "metadata": {
        "id": "5BMoSS-ia-Qy"
      },
      "source": [
        ""
      ],
      "execution_count": null,
      "outputs": []
    }
  ]
}